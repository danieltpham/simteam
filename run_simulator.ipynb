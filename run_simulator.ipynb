{
 "cells": [
  {
   "cell_type": "code",
   "execution_count": null,
   "id": "2677f0e6",
   "metadata": {},
   "outputs": [],
   "source": [
    "from datetime import datetime\n",
    "from simteam.core.orgsimulator import OrgSimulator"
   ]
  },
  {
   "cell_type": "code",
   "execution_count": 18,
   "id": "8c1e3332",
   "metadata": {},
   "outputs": [],
   "source": [
    "start_date = datetime(2025, 1, 1)\n",
    "sim = OrgSimulator(start_date=start_date)"
   ]
  },
  {
   "cell_type": "code",
   "execution_count": 19,
   "id": "cc71725a",
   "metadata": {},
   "outputs": [
    {
     "name": "stdout",
     "output_type": "stream",
     "text": [
      "{<Role.CEO: 'CEO'>: 1, <Role.VP: 'VP'>: 3, <Role.DIRECTOR: 'Director'>: 10, <Role.MANAGER: 'Manager'>: 10, <Role.SENIOR_ANALYST: 'Senior Analyst'>: 30, <Role.ANALYST: 'Analyst'>: 46}\n",
      "record=VacancyRecord(role=<Role.MANAGER: 'Manager'>, manager_id='TEMP192', department=None, team=None, report_ids=['EMP188'], deadline=datetime.datetime(2026, 1, 1, 0, 0))\n",
      "record=VacancyRecord(role=<Role.SENIOR_ANALYST: 'Senior Analyst'>, manager_id='EMP015', department=None, team=None, report_ids=[], deadline=datetime.datetime(2026, 1, 6, 0, 0))\n",
      "record=VacancyRecord(role=<Role.SENIOR_ANALYST: 'Senior Analyst'>, manager_id='EMP015', department=None, team=None, report_ids=[], deadline=datetime.datetime(2026, 1, 8, 0, 0))\n"
     ]
    }
   ],
   "source": [
    "sim.simulate_for_days(365)\n",
    "print(sim.employee_count_by_role())\n",
    "for x in sim.vacancies:\n",
    "    print(x)"
   ]
  },
  {
   "cell_type": "code",
   "execution_count": 20,
   "id": "29c1ece7",
   "metadata": {},
   "outputs": [
    {
     "data": {
      "text/plain": [
       "[Employee(state=EmployeeState(emp_id='EMP002', role=<Role.VP: 'VP'>, manager_id='EMP001', department=None, team=None, hire_date=datetime.datetime(2025, 1, 1, 0, 0), active=True, history=[EventLog(date=datetime.datetime(2025, 1, 1, 0, 0), event_type=<EventType.EMPLOYED: 'employed'>, employee_id='EMP002', role=<Role.VP: 'VP'>, manager_id='EMP001', department=None, team=None)])),\n",
       " Employee(state=EmployeeState(emp_id='EMP003', role=<Role.VP: 'VP'>, manager_id='EMP001', department=None, team=None, hire_date=datetime.datetime(2025, 1, 1, 0, 0), active=True, history=[EventLog(date=datetime.datetime(2025, 1, 1, 0, 0), event_type=<EventType.EMPLOYED: 'employed'>, employee_id='EMP003', role=<Role.VP: 'VP'>, manager_id='EMP001', department=None, team=None)])),\n",
       " Employee(state=EmployeeState(emp_id='EMP004', role=<Role.VP: 'VP'>, manager_id='EMP001', department=None, team=None, hire_date=datetime.datetime(2025, 1, 1, 0, 0), active=True, history=[EventLog(date=datetime.datetime(2025, 1, 1, 0, 0), event_type=<EventType.EMPLOYED: 'employed'>, employee_id='EMP004', role=<Role.VP: 'VP'>, manager_id='EMP001', department=None, team=None)]))]"
      ]
     },
     "execution_count": 20,
     "metadata": {},
     "output_type": "execute_result"
    }
   ],
   "source": [
    "sim.get_active_employees_by_role('VP')"
   ]
  },
  {
   "cell_type": "code",
   "execution_count": 21,
   "id": "068b8726",
   "metadata": {},
   "outputs": [
    {
     "data": {
      "text/plain": [
       "[Employee(state=EmployeeState(emp_id='EMP005', role=<Role.DIRECTOR: 'Director'>, manager_id='EMP003', department=None, team=None, hire_date=datetime.datetime(2025, 1, 1, 0, 0), active=True, history=[EventLog(date=datetime.datetime(2025, 1, 1, 0, 0), event_type=<EventType.EMPLOYED: 'employed'>, employee_id='EMP005', role=<Role.DIRECTOR: 'Director'>, manager_id='EMP002', department=None, team=None), EventLog(date=datetime.datetime(2025, 11, 8, 0, 0), event_type=<EventType.CHANGE: 'change'>, employee_id='EMP005', role=<Role.DIRECTOR: 'Director'>, manager_id='EMP003', department=None, team=None)])),\n",
       " Employee(state=EmployeeState(emp_id='EMP007', role=<Role.DIRECTOR: 'Director'>, manager_id='EMP002', department=None, team=None, hire_date=datetime.datetime(2025, 1, 2, 0, 0), active=True, history=[EventLog(date=datetime.datetime(2025, 1, 2, 0, 0), event_type=<EventType.EMPLOYED: 'employed'>, employee_id='EMP007', role=<Role.DIRECTOR: 'Director'>, manager_id='EMP002', department=None, team=None)])),\n",
       " Employee(state=EmployeeState(emp_id='EMP010', role=<Role.DIRECTOR: 'Director'>, manager_id='EMP004', department=None, team=None, hire_date=datetime.datetime(2025, 1, 3, 0, 0), active=True, history=[EventLog(date=datetime.datetime(2025, 1, 3, 0, 0), event_type=<EventType.EMPLOYED: 'employed'>, employee_id='EMP010', role=<Role.DIRECTOR: 'Director'>, manager_id='EMP002', department=None, team=None), EventLog(date=datetime.datetime(2025, 1, 22, 0, 0), event_type=<EventType.CHANGE: 'change'>, employee_id='EMP010', role=<Role.DIRECTOR: 'Director'>, manager_id='EMP004', department=None, team=None)])),\n",
       " Employee(state=EmployeeState(emp_id='EMP011', role=<Role.DIRECTOR: 'Director'>, manager_id='EMP004', department=None, team=None, hire_date=datetime.datetime(2025, 1, 3, 0, 0), active=True, history=[EventLog(date=datetime.datetime(2025, 1, 3, 0, 0), event_type=<EventType.EMPLOYED: 'employed'>, employee_id='EMP011', role=<Role.DIRECTOR: 'Director'>, manager_id='EMP002', department=None, team=None), EventLog(date=datetime.datetime(2025, 1, 15, 0, 0), event_type=<EventType.CHANGE: 'change'>, employee_id='EMP011', role=<Role.DIRECTOR: 'Director'>, manager_id='EMP004', department=None, team=None)])),\n",
       " Employee(state=EmployeeState(emp_id='EMP013', role=<Role.DIRECTOR: 'Director'>, manager_id='EMP002', department=None, team=None, hire_date=datetime.datetime(2025, 1, 4, 0, 0), active=True, history=[EventLog(date=datetime.datetime(2025, 1, 4, 0, 0), event_type=<EventType.EMPLOYED: 'employed'>, employee_id='EMP013', role=<Role.DIRECTOR: 'Director'>, manager_id='EMP002', department=None, team=None)])),\n",
       " Employee(state=EmployeeState(emp_id='EMP015', role=<Role.DIRECTOR: 'Director'>, manager_id='EMP002', department=None, team=None, hire_date=datetime.datetime(2025, 1, 5, 0, 0), active=True, history=[EventLog(date=datetime.datetime(2025, 1, 5, 0, 0), event_type=<EventType.EMPLOYED: 'employed'>, employee_id='EMP015', role=<Role.MANAGER: 'Manager'>, manager_id='EMP005', department=None, team=None), EventLog(date=datetime.datetime(2025, 1, 24, 0, 0), event_type=<EventType.CHANGE: 'change'>, employee_id='EMP015', role=<Role.MANAGER: 'Manager'>, manager_id='EMP011', department=None, team=None), EventLog(date=datetime.datetime(2025, 12, 10, 0, 0), event_type=<EventType.PROMOTED: 'promoted'>, employee_id='EMP015', role=<Role.DIRECTOR: 'Director'>, manager_id='EMP011', department=None, team=None), EventLog(date=datetime.datetime(2025, 12, 10, 0, 0), event_type=<EventType.CHANGE: 'change'>, employee_id='EMP015', role=<Role.DIRECTOR: 'Director'>, manager_id='EMP002', department=None, team=None)])),\n",
       " Employee(state=EmployeeState(emp_id='EMP016', role=<Role.DIRECTOR: 'Director'>, manager_id='EMP003', department=None, team=None, hire_date=datetime.datetime(2025, 1, 6, 0, 0), active=True, history=[EventLog(date=datetime.datetime(2025, 1, 6, 0, 0), event_type=<EventType.EMPLOYED: 'employed'>, employee_id='EMP016', role=<Role.MANAGER: 'Manager'>, manager_id='EMP005', department=None, team=None), EventLog(date=datetime.datetime(2025, 4, 7, 0, 0), event_type=<EventType.CHANGE: 'change'>, employee_id='EMP016', role=<Role.MANAGER: 'Manager'>, manager_id='EMP008', department=None, team=None), EventLog(date=datetime.datetime(2025, 5, 31, 0, 0), event_type=<EventType.CHANGE: 'change'>, employee_id='EMP016', role=<Role.MANAGER: 'Manager'>, manager_id='TEMP128', department=None, team=None), EventLog(date=datetime.datetime(2025, 6, 2, 0, 0), event_type=<EventType.CHANGE: 'change'>, employee_id='EMP016', role=<Role.MANAGER: 'Manager'>, manager_id='EMP042', department=None, team=None), EventLog(date=datetime.datetime(2025, 6, 29, 0, 0), event_type=<EventType.PROMOTED: 'promoted'>, employee_id='EMP016', role=<Role.DIRECTOR: 'Director'>, manager_id='EMP042', department=None, team=None), EventLog(date=datetime.datetime(2025, 6, 29, 0, 0), event_type=<EventType.CHANGE: 'change'>, employee_id='EMP016', role=<Role.DIRECTOR: 'Director'>, manager_id='EMP002', department=None, team=None), EventLog(date=datetime.datetime(2025, 9, 4, 0, 0), event_type=<EventType.CHANGE: 'change'>, employee_id='EMP016', role=<Role.DIRECTOR: 'Director'>, manager_id='EMP003', department=None, team=None)])),\n",
       " Employee(state=EmployeeState(emp_id='EMP020', role=<Role.DIRECTOR: 'Director'>, manager_id='EMP003', department=None, team=None, hire_date=datetime.datetime(2025, 1, 9, 0, 0), active=True, history=[EventLog(date=datetime.datetime(2025, 1, 9, 0, 0), event_type=<EventType.EMPLOYED: 'employed'>, employee_id='EMP020', role=<Role.MANAGER: 'Manager'>, manager_id='EMP005', department=None, team=None), EventLog(date=datetime.datetime(2025, 5, 10, 0, 0), event_type=<EventType.PROMOTED: 'promoted'>, employee_id='EMP020', role=<Role.DIRECTOR: 'Director'>, manager_id='EMP005', department=None, team=None), EventLog(date=datetime.datetime(2025, 5, 10, 0, 0), event_type=<EventType.CHANGE: 'change'>, employee_id='EMP020', role=<Role.DIRECTOR: 'Director'>, manager_id='EMP002', department=None, team=None), EventLog(date=datetime.datetime(2025, 8, 22, 0, 0), event_type=<EventType.CHANGE: 'change'>, employee_id='EMP020', role=<Role.DIRECTOR: 'Director'>, manager_id='EMP003', department=None, team=None)])),\n",
       " Employee(state=EmployeeState(emp_id='EMP023', role=<Role.DIRECTOR: 'Director'>, manager_id='EMP003', department=None, team=None, hire_date=datetime.datetime(2025, 1, 11, 0, 0), active=True, history=[EventLog(date=datetime.datetime(2025, 1, 11, 0, 0), event_type=<EventType.EMPLOYED: 'employed'>, employee_id='EMP023', role=<Role.MANAGER: 'Manager'>, manager_id='EMP005', department=None, team=None), EventLog(date=datetime.datetime(2025, 11, 5, 0, 0), event_type=<EventType.PROMOTED: 'promoted'>, employee_id='EMP023', role=<Role.DIRECTOR: 'Director'>, manager_id='EMP005', department=None, team=None), EventLog(date=datetime.datetime(2025, 11, 5, 0, 0), event_type=<EventType.CHANGE: 'change'>, employee_id='EMP023', role=<Role.DIRECTOR: 'Director'>, manager_id='EMP002', department=None, team=None), EventLog(date=datetime.datetime(2025, 11, 25, 0, 0), event_type=<EventType.CHANGE: 'change'>, employee_id='EMP023', role=<Role.DIRECTOR: 'Director'>, manager_id='EMP003', department=None, team=None)])),\n",
       " Employee(state=EmployeeState(emp_id='EMP062', role=<Role.DIRECTOR: 'Director'>, manager_id='EMP003', department=None, team=None, hire_date=datetime.datetime(2025, 2, 12, 0, 0), active=True, history=[EventLog(date=datetime.datetime(2025, 2, 12, 0, 0), event_type=<EventType.EMPLOYED: 'employed'>, employee_id='EMP062', role=<Role.ANALYST: 'Analyst'>, manager_id='EMP017', department=None, team=None), EventLog(date=datetime.datetime(2025, 3, 4, 0, 0), event_type=<EventType.PROMOTED: 'promoted'>, employee_id='EMP062', role=<Role.SENIOR_ANALYST: 'Senior Analyst'>, manager_id='EMP017', department=None, team=None), EventLog(date=datetime.datetime(2025, 3, 4, 0, 0), event_type=<EventType.CHANGE: 'change'>, employee_id='EMP062', role=<Role.SENIOR_ANALYST: 'Senior Analyst'>, manager_id='EMP015', department=None, team=None), EventLog(date=datetime.datetime(2025, 10, 7, 0, 0), event_type=<EventType.PROMOTED: 'promoted'>, employee_id='EMP062', role=<Role.MANAGER: 'Manager'>, manager_id='EMP015', department=None, team=None), EventLog(date=datetime.datetime(2025, 10, 7, 0, 0), event_type=<EventType.CHANGE: 'change'>, employee_id='EMP062', role=<Role.MANAGER: 'Manager'>, manager_id='EMP005', department=None, team=None), EventLog(date=datetime.datetime(2025, 11, 14, 0, 0), event_type=<EventType.PROMOTED: 'promoted'>, employee_id='EMP062', role=<Role.DIRECTOR: 'Director'>, manager_id='EMP005', department=None, team=None), EventLog(date=datetime.datetime(2025, 11, 14, 0, 0), event_type=<EventType.CHANGE: 'change'>, employee_id='EMP062', role=<Role.DIRECTOR: 'Director'>, manager_id='EMP002', department=None, team=None), EventLog(date=datetime.datetime(2025, 12, 28, 0, 0), event_type=<EventType.CHANGE: 'change'>, employee_id='EMP062', role=<Role.DIRECTOR: 'Director'>, manager_id='EMP003', department=None, team=None)]))]"
      ]
     },
     "execution_count": 21,
     "metadata": {},
     "output_type": "execute_result"
    }
   ],
   "source": [
    "sim.get_active_employees_by_role('Director')"
   ]
  },
  {
   "cell_type": "code",
   "execution_count": null,
   "id": "5a7ed219",
   "metadata": {},
   "outputs": [],
   "source": [
    "# # Export as dict\n",
    "# data = sim.export_to_json()\n",
    "# sim.save_to_json('sim_output.json')"
   ]
  },
  {
   "cell_type": "code",
   "execution_count": null,
   "id": "fcebb2a4",
   "metadata": {},
   "outputs": [],
   "source": [
    "# # Load to dict\n",
    "# start_date = datetime(2025, 1, 1)\n",
    "# sim2 = OrgSimulator(start_date=start_date).load_from_json('sim_output.json')"
   ]
  }
 ],
 "metadata": {
  "kernelspec": {
   "display_name": "dev",
   "language": "python",
   "name": "python3"
  },
  "language_info": {
   "codemirror_mode": {
    "name": "ipython",
    "version": 3
   },
   "file_extension": ".py",
   "mimetype": "text/x-python",
   "name": "python",
   "nbconvert_exporter": "python",
   "pygments_lexer": "ipython3",
   "version": "3.13.2"
  }
 },
 "nbformat": 4,
 "nbformat_minor": 5
}
