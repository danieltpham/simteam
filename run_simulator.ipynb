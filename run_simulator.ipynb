{
 "cells": [
  {
   "cell_type": "code",
   "execution_count": 11,
   "id": "2677f0e6",
   "metadata": {},
   "outputs": [],
   "source": [
    "from datetime import datetime\n",
    "from simteam.core.orgsimulator import OrgSimulator"
   ]
  },
  {
   "cell_type": "code",
   "execution_count": 12,
   "id": "8c1e3332",
   "metadata": {},
   "outputs": [],
   "source": [
    "start_date = datetime(2025, 1, 1)\n",
    "sim = OrgSimulator(start_date=start_date)"
   ]
  },
  {
   "cell_type": "code",
   "execution_count": 13,
   "id": "cc71725a",
   "metadata": {},
   "outputs": [
    {
     "name": "stdout",
     "output_type": "stream",
     "text": [
      "{<Role.CEO: 'CEO'>: 1, <Role.VP: 'VP'>: 3, <Role.DIRECTOR: 'Director'>: 10, <Role.MANAGER: 'Manager'>: 10, <Role.SENIOR_ANALYST: 'Senior Analyst'>: 30, <Role.ANALYST: 'Analyst'>: 46}\n"
     ]
    }
   ],
   "source": [
    "sim.simulate_for_days(365)\n",
    "print(sim.employee_count_by_role())\n",
    "for x in sim.vacancies:\n",
    "    print(x)"
   ]
  },
  {
   "cell_type": "code",
   "execution_count": 14,
   "id": "068b8726",
   "metadata": {},
   "outputs": [
    {
     "data": {
      "text/plain": [
       "[Employee(state=EmployeeState(emp_id='EMP007', role=<Role.DIRECTOR: 'Director'>, manager_id='EMP003', department=None, team=None, hire_date=datetime.datetime(2025, 1, 3, 0, 0), active=True, history=[EventLog(date=datetime.datetime(2025, 1, 3, 0, 0), event_type=<EventType.EMPLOYED: 'employed'>, employee_id='EMP007', role=<Role.DIRECTOR: 'Director'>, manager_id='EMP002', department=None, team=None), EventLog(date=datetime.datetime(2025, 11, 24, 0, 0), event_type=<EventType.CHANGE: 'change'>, employee_id='EMP007', role=<Role.DIRECTOR: 'Director'>, manager_id='EMP003', department=None, team=None)])),\n",
       " Employee(state=EmployeeState(emp_id='EMP008', role=<Role.DIRECTOR: 'Director'>, manager_id='EMP003', department=None, team=None, hire_date=datetime.datetime(2025, 1, 5, 0, 0), active=True, history=[EventLog(date=datetime.datetime(2025, 1, 5, 0, 0), event_type=<EventType.EMPLOYED: 'employed'>, employee_id='EMP008', role=<Role.DIRECTOR: 'Director'>, manager_id='EMP002', department=None, team=None), EventLog(date=datetime.datetime(2025, 2, 25, 0, 0), event_type=<EventType.CHANGE: 'change'>, employee_id='EMP008', role=<Role.DIRECTOR: 'Director'>, manager_id='EMP003', department=None, team=None)])),\n",
       " Employee(state=EmployeeState(emp_id='EMP013', role=<Role.DIRECTOR: 'Director'>, manager_id='EMP002', department=None, team=None, hire_date=datetime.datetime(2025, 1, 6, 0, 0), active=True, history=[EventLog(date=datetime.datetime(2025, 1, 6, 0, 0), event_type=<EventType.EMPLOYED: 'employed'>, employee_id='EMP013', role=<Role.DIRECTOR: 'Director'>, manager_id='EMP002', department=None, team=None)])),\n",
       " Employee(state=EmployeeState(emp_id='EMP014', role=<Role.DIRECTOR: 'Director'>, manager_id='EMP004', department=None, team=None, hire_date=datetime.datetime(2025, 1, 7, 0, 0), active=True, history=[EventLog(date=datetime.datetime(2025, 1, 7, 0, 0), event_type=<EventType.EMPLOYED: 'employed'>, employee_id='EMP014', role=<Role.DIRECTOR: 'Director'>, manager_id='EMP002', department=None, team=None), EventLog(date=datetime.datetime(2025, 12, 3, 0, 0), event_type=<EventType.CHANGE: 'change'>, employee_id='EMP014', role=<Role.DIRECTOR: 'Director'>, manager_id='EMP003', department=None, team=None), EventLog(date=datetime.datetime(2025, 12, 6, 0, 0), event_type=<EventType.CHANGE: 'change'>, employee_id='EMP014', role=<Role.DIRECTOR: 'Director'>, manager_id='EMP004', department=None, team=None)])),\n",
       " Employee(state=EmployeeState(emp_id='EMP016', role=<Role.DIRECTOR: 'Director'>, manager_id='EMP004', department=None, team=None, hire_date=datetime.datetime(2025, 1, 7, 0, 0), active=True, history=[EventLog(date=datetime.datetime(2025, 1, 7, 0, 0), event_type=<EventType.EMPLOYED: 'employed'>, employee_id='EMP016', role=<Role.MANAGER: 'Manager'>, manager_id='EMP005', department=None, team=None), EventLog(date=datetime.datetime(2025, 2, 18, 0, 0), event_type=<EventType.PROMOTED: 'promoted'>, employee_id='EMP016', role=<Role.DIRECTOR: 'Director'>, manager_id='EMP005', department=None, team=None), EventLog(date=datetime.datetime(2025, 2, 18, 0, 0), event_type=<EventType.CHANGE: 'change'>, employee_id='EMP016', role=<Role.DIRECTOR: 'Director'>, manager_id='EMP002', department=None, team=None), EventLog(date=datetime.datetime(2025, 4, 14, 0, 0), event_type=<EventType.CHANGE: 'change'>, employee_id='EMP016', role=<Role.DIRECTOR: 'Director'>, manager_id='EMP003', department=None, team=None), EventLog(date=datetime.datetime(2025, 4, 19, 0, 0), event_type=<EventType.CHANGE: 'change'>, employee_id='EMP016', role=<Role.DIRECTOR: 'Director'>, manager_id='EMP002', department=None, team=None), EventLog(date=datetime.datetime(2025, 10, 1, 0, 0), event_type=<EventType.CHANGE: 'change'>, employee_id='EMP016', role=<Role.DIRECTOR: 'Director'>, manager_id='EMP004', department=None, team=None)])),\n",
       " Employee(state=EmployeeState(emp_id='EMP018', role=<Role.DIRECTOR: 'Director'>, manager_id='EMP004', department=None, team=None, hire_date=datetime.datetime(2025, 1, 8, 0, 0), active=True, history=[EventLog(date=datetime.datetime(2025, 1, 8, 0, 0), event_type=<EventType.EMPLOYED: 'employed'>, employee_id='EMP018', role=<Role.MANAGER: 'Manager'>, manager_id='EMP005', department=None, team=None), EventLog(date=datetime.datetime(2025, 7, 24, 0, 0), event_type=<EventType.CHANGE: 'change'>, employee_id='EMP018', role=<Role.MANAGER: 'Manager'>, manager_id='TEMP141', department=None, team=None), EventLog(date=datetime.datetime(2025, 7, 28, 0, 0), event_type=<EventType.CHANGE: 'change'>, employee_id='EMP018', role=<Role.MANAGER: 'Manager'>, manager_id='EMP041', department=None, team=None), EventLog(date=datetime.datetime(2025, 8, 14, 0, 0), event_type=<EventType.PROMOTED: 'promoted'>, employee_id='EMP018', role=<Role.DIRECTOR: 'Director'>, manager_id='EMP041', department=None, team=None), EventLog(date=datetime.datetime(2025, 8, 14, 0, 0), event_type=<EventType.CHANGE: 'change'>, employee_id='EMP018', role=<Role.DIRECTOR: 'Director'>, manager_id='EMP002', department=None, team=None), EventLog(date=datetime.datetime(2025, 8, 24, 0, 0), event_type=<EventType.CHANGE: 'change'>, employee_id='EMP018', role=<Role.DIRECTOR: 'Director'>, manager_id='EMP004', department=None, team=None)])),\n",
       " Employee(state=EmployeeState(emp_id='EMP021', role=<Role.DIRECTOR: 'Director'>, manager_id='EMP002', department=None, team=None, hire_date=datetime.datetime(2025, 1, 10, 0, 0), active=True, history=[EventLog(date=datetime.datetime(2025, 1, 10, 0, 0), event_type=<EventType.EMPLOYED: 'employed'>, employee_id='EMP021', role=<Role.MANAGER: 'Manager'>, manager_id='EMP005', department=None, team=None), EventLog(date=datetime.datetime(2025, 6, 27, 0, 0), event_type=<EventType.PROMOTED: 'promoted'>, employee_id='EMP021', role=<Role.DIRECTOR: 'Director'>, manager_id='EMP005', department=None, team=None), EventLog(date=datetime.datetime(2025, 6, 27, 0, 0), event_type=<EventType.CHANGE: 'change'>, employee_id='EMP021', role=<Role.DIRECTOR: 'Director'>, manager_id='EMP002', department=None, team=None)])),\n",
       " Employee(state=EmployeeState(emp_id='EMP040', role=<Role.DIRECTOR: 'Director'>, manager_id='EMP002', department=None, team=None, hire_date=datetime.datetime(2025, 2, 1, 0, 0), active=True, history=[EventLog(date=datetime.datetime(2025, 2, 1, 0, 0), event_type=<EventType.EMPLOYED: 'employed'>, employee_id='EMP040', role=<Role.MANAGER: 'Manager'>, manager_id='EMP005', department=None, team=None), EventLog(date=datetime.datetime(2025, 7, 24, 0, 0), event_type=<EventType.CHANGE: 'change'>, employee_id='EMP040', role=<Role.MANAGER: 'Manager'>, manager_id='TEMP141', department=None, team=None), EventLog(date=datetime.datetime(2025, 7, 28, 0, 0), event_type=<EventType.CHANGE: 'change'>, employee_id='EMP040', role=<Role.MANAGER: 'Manager'>, manager_id='EMP041', department=None, team=None), EventLog(date=datetime.datetime(2025, 11, 27, 0, 0), event_type=<EventType.PROMOTED: 'promoted'>, employee_id='EMP040', role=<Role.DIRECTOR: 'Director'>, manager_id='EMP041', department=None, team=None), EventLog(date=datetime.datetime(2025, 11, 27, 0, 0), event_type=<EventType.CHANGE: 'change'>, employee_id='EMP040', role=<Role.DIRECTOR: 'Director'>, manager_id='EMP002', department=None, team=None)])),\n",
       " Employee(state=EmployeeState(emp_id='EMP041', role=<Role.DIRECTOR: 'Director'>, manager_id='EMP002', department=None, team=None, hire_date=datetime.datetime(2025, 2, 1, 0, 0), active=True, history=[EventLog(date=datetime.datetime(2025, 2, 1, 0, 0), event_type=<EventType.EMPLOYED: 'employed'>, employee_id='EMP041', role=<Role.ANALYST: 'Analyst'>, manager_id='EMP019', department=None, team=None), EventLog(date=datetime.datetime(2025, 3, 26, 0, 0), event_type=<EventType.CHANGE: 'change'>, employee_id='EMP041', role=<Role.ANALYST: 'Analyst'>, manager_id='EMP055', department=None, team=None), EventLog(date=datetime.datetime(2025, 3, 28, 0, 0), event_type=<EventType.PROMOTED: 'promoted'>, employee_id='EMP041', role=<Role.SENIOR_ANALYST: 'Senior Analyst'>, manager_id='EMP055', department=None, team=None), EventLog(date=datetime.datetime(2025, 3, 28, 0, 0), event_type=<EventType.CHANGE: 'change'>, employee_id='EMP041', role=<Role.SENIOR_ANALYST: 'Senior Analyst'>, manager_id='EMP015', department=None, team=None), EventLog(date=datetime.datetime(2025, 6, 21, 0, 0), event_type=<EventType.PROMOTED: 'promoted'>, employee_id='EMP041', role=<Role.MANAGER: 'Manager'>, manager_id='EMP015', department=None, team=None), EventLog(date=datetime.datetime(2025, 6, 21, 0, 0), event_type=<EventType.CHANGE: 'change'>, employee_id='EMP041', role=<Role.MANAGER: 'Manager'>, manager_id='EMP005', department=None, team=None), EventLog(date=datetime.datetime(2025, 7, 24, 0, 0), event_type=<EventType.CHANGE: 'change'>, employee_id='EMP041', role=<Role.MANAGER: 'Manager'>, manager_id='TEMP141', department=None, team=None), EventLog(date=datetime.datetime(2025, 7, 28, 0, 0), event_type=<EventType.PROMOTED: 'promoted'>, employee_id='EMP041', role=<Role.DIRECTOR: 'Director'>, manager_id='TEMP141', department=None, team=None), EventLog(date=datetime.datetime(2025, 7, 28, 0, 0), event_type=<EventType.CHANGE: 'change'>, employee_id='EMP041', role=<Role.DIRECTOR: 'Director'>, manager_id='EMP002', department=None, team=None)])),\n",
       " Employee(state=EmployeeState(emp_id='EMP176', role=<Role.DIRECTOR: 'Director'>, manager_id='EMP004', department=None, team=None, hire_date=datetime.datetime(2025, 12, 7, 0, 0), active=True, history=[EventLog(date=datetime.datetime(2025, 12, 7, 0, 0), event_type=<EventType.EMPLOYED: 'employed'>, employee_id='EMP176', role=<Role.DIRECTOR: 'Director'>, manager_id='EMP004', department=None, team=None)]))]"
      ]
     },
     "execution_count": 14,
     "metadata": {},
     "output_type": "execute_result"
    }
   ],
   "source": [
    "sim.get_active_employees_by_role('Director')"
   ]
  },
  {
   "cell_type": "code",
   "execution_count": null,
   "id": "5a7ed219",
   "metadata": {},
   "outputs": [],
   "source": [
    "# # Export as dict\n",
    "# data = sim.export_to_json()\n",
    "# sim.save_to_json('sim_output.json')"
   ]
  },
  {
   "cell_type": "code",
   "execution_count": 16,
   "id": "fcebb2a4",
   "metadata": {},
   "outputs": [],
   "source": [
    "# Load to dict\n",
    "start_date = datetime(2025, 1, 1)\n",
    "sim2 = OrgSimulator(start_date=start_date).load_from_json('sim_output.json')"
   ]
  },
  {
   "cell_type": "code",
   "execution_count": 17,
   "id": "b2cf7f5d",
   "metadata": {},
   "outputs": [
    {
     "data": {
      "text/plain": [
       "{'TEMP097': Employee(state=EmployeeState(emp_id='TEMP097', role=<Role.MANAGER: 'Manager'>, manager_id='EMP005', department=None, team=None, hire_date=datetime.datetime(2025, 4, 16, 0, 0), active=False, history=[EventLog(date=datetime.datetime(2025, 4, 16, 0, 0), event_type=<EventType.EMPLOYED: 'employed'>, employee_id='TEMP097', role=<Role.MANAGER: 'Manager'>, manager_id='EMP005', department=None, team=None)])),\n",
       " 'TEMP164': Employee(state=EmployeeState(emp_id='TEMP164', role=<Role.MANAGER: 'Manager'>, manager_id='EMP041', department=None, team=None, hire_date=datetime.datetime(2025, 10, 4, 0, 0), active=False, history=[EventLog(date=datetime.datetime(2025, 10, 4, 0, 0), event_type=<EventType.EMPLOYED: 'employed'>, employee_id='TEMP164', role=<Role.MANAGER: 'Manager'>, manager_id='EMP041', department=None, team=None)]))}"
      ]
     },
     "execution_count": 17,
     "metadata": {},
     "output_type": "execute_result"
    }
   ],
   "source": [
    "sim2.temp_employees"
   ]
  }
 ],
 "metadata": {
  "kernelspec": {
   "display_name": "dev",
   "language": "python",
   "name": "python3"
  },
  "language_info": {
   "codemirror_mode": {
    "name": "ipython",
    "version": 3
   },
   "file_extension": ".py",
   "mimetype": "text/x-python",
   "name": "python",
   "nbconvert_exporter": "python",
   "pygments_lexer": "ipython3",
   "version": "3.13.2"
  }
 },
 "nbformat": 4,
 "nbformat_minor": 5
}
