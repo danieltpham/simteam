{
 "cells": [
  {
   "cell_type": "code",
   "execution_count": 3,
   "id": "2677f0e6",
   "metadata": {},
   "outputs": [],
   "source": [
    "from datetime import datetime\n",
    "from simteam.core.orgsimulator import OrgSimulator"
   ]
  },
  {
   "cell_type": "code",
   "execution_count": 4,
   "id": "8c1e3332",
   "metadata": {},
   "outputs": [],
   "source": [
    "start_date = datetime(2025, 1, 1)\n",
    "sim = OrgSimulator(start_date=start_date)"
   ]
  },
  {
   "cell_type": "code",
   "execution_count": 5,
   "id": "cc71725a",
   "metadata": {},
   "outputs": [
    {
     "name": "stdout",
     "output_type": "stream",
     "text": [
      "{<Role.CEO: 'CEO'>: 1, <Role.VP: 'VP'>: 3, <Role.DIRECTOR: 'Director'>: 10, <Role.MANAGER: 'Manager'>: 10, <Role.SENIOR_ANALYST: 'Senior Analyst'>: 29, <Role.ANALYST: 'Analyst'>: 47}\n"
     ]
    }
   ],
   "source": [
    "sim.simulate_for_days(365)\n",
    "print(sim.employee_count_by_role())\n",
    "for x in sim.vacancies:\n",
    "    print(x)"
   ]
  },
  {
   "cell_type": "code",
   "execution_count": 6,
   "id": "068b8726",
   "metadata": {},
   "outputs": [
    {
     "data": {
      "text/plain": [
       "[Employee(state=EmployeeState(emp_id='EMP005', role=<Role.DIRECTOR: 'Director'>, manager_id='EMP002', department=None, team=None, hire_date=datetime.datetime(2025, 1, 2, 0, 0), active=True, history=[EventLog(date=datetime.datetime(2025, 1, 2, 0, 0), event_type=<EventType.EMPLOYED: 'employed'>, employee_id='EMP005', role=<Role.DIRECTOR: 'Director'>, manager_id='EMP002', department=None, team=None)])),\n",
       " Employee(state=EmployeeState(emp_id='EMP006', role=<Role.DIRECTOR: 'Director'>, manager_id='EMP002', department=None, team=None, hire_date=datetime.datetime(2025, 1, 2, 0, 0), active=True, history=[EventLog(date=datetime.datetime(2025, 1, 2, 0, 0), event_type=<EventType.EMPLOYED: 'employed'>, employee_id='EMP006', role=<Role.DIRECTOR: 'Director'>, manager_id='EMP002', department=None, team=None)])),\n",
       " Employee(state=EmployeeState(emp_id='EMP008', role=<Role.DIRECTOR: 'Director'>, manager_id='EMP004', department=None, team=None, hire_date=datetime.datetime(2025, 1, 3, 0, 0), active=True, history=[EventLog(date=datetime.datetime(2025, 1, 3, 0, 0), event_type=<EventType.EMPLOYED: 'employed'>, employee_id='EMP008', role=<Role.DIRECTOR: 'Director'>, manager_id='EMP002', department=None, team=None), EventLog(date=datetime.datetime(2025, 9, 27, 0, 0), event_type=<EventType.CHANGE: 'change'>, employee_id='EMP008', role=<Role.DIRECTOR: 'Director'>, manager_id='EMP004', department=None, team=None)])),\n",
       " Employee(state=EmployeeState(emp_id='EMP009', role=<Role.DIRECTOR: 'Director'>, manager_id='EMP002', department=None, team=None, hire_date=datetime.datetime(2025, 1, 4, 0, 0), active=True, history=[EventLog(date=datetime.datetime(2025, 1, 4, 0, 0), event_type=<EventType.EMPLOYED: 'employed'>, employee_id='EMP009', role=<Role.DIRECTOR: 'Director'>, manager_id='EMP002', department=None, team=None)])),\n",
       " Employee(state=EmployeeState(emp_id='EMP012', role=<Role.DIRECTOR: 'Director'>, manager_id='EMP002', department=None, team=None, hire_date=datetime.datetime(2025, 1, 5, 0, 0), active=True, history=[EventLog(date=datetime.datetime(2025, 1, 5, 0, 0), event_type=<EventType.EMPLOYED: 'employed'>, employee_id='EMP012', role=<Role.DIRECTOR: 'Director'>, manager_id='EMP002', department=None, team=None), EventLog(date=datetime.datetime(2025, 4, 22, 0, 0), event_type=<EventType.CHANGE: 'change'>, employee_id='EMP012', role=<Role.DIRECTOR: 'Director'>, manager_id='EMP004', department=None, team=None), EventLog(date=datetime.datetime(2025, 11, 12, 0, 0), event_type=<EventType.CHANGE: 'change'>, employee_id='EMP012', role=<Role.DIRECTOR: 'Director'>, manager_id='EMP002', department=None, team=None)])),\n",
       " Employee(state=EmployeeState(emp_id='EMP013', role=<Role.DIRECTOR: 'Director'>, manager_id='EMP002', department=None, team=None, hire_date=datetime.datetime(2025, 1, 6, 0, 0), active=True, history=[EventLog(date=datetime.datetime(2025, 1, 6, 0, 0), event_type=<EventType.EMPLOYED: 'employed'>, employee_id='EMP013', role=<Role.DIRECTOR: 'Director'>, manager_id='EMP002', department=None, team=None)])),\n",
       " Employee(state=EmployeeState(emp_id='EMP021', role=<Role.DIRECTOR: 'Director'>, manager_id='EMP002', department=None, team=None, hire_date=datetime.datetime(2025, 1, 10, 0, 0), active=True, history=[EventLog(date=datetime.datetime(2025, 1, 10, 0, 0), event_type=<EventType.EMPLOYED: 'employed'>, employee_id='EMP021', role=<Role.MANAGER: 'Manager'>, manager_id='EMP005', department=None, team=None), EventLog(date=datetime.datetime(2025, 10, 6, 0, 0), event_type=<EventType.PROMOTED: 'promoted'>, employee_id='EMP021', role=<Role.DIRECTOR: 'Director'>, manager_id='EMP005', department=None, team=None), EventLog(date=datetime.datetime(2025, 10, 6, 0, 0), event_type=<EventType.CHANGE: 'change'>, employee_id='EMP021', role=<Role.DIRECTOR: 'Director'>, manager_id='EMP002', department=None, team=None)])),\n",
       " Employee(state=EmployeeState(emp_id='EMP024', role=<Role.DIRECTOR: 'Director'>, manager_id='EMP002', department=None, team=None, hire_date=datetime.datetime(2025, 1, 11, 0, 0), active=True, history=[EventLog(date=datetime.datetime(2025, 1, 11, 0, 0), event_type=<EventType.EMPLOYED: 'employed'>, employee_id='EMP024', role=<Role.MANAGER: 'Manager'>, manager_id='EMP005', department=None, team=None), EventLog(date=datetime.datetime(2025, 10, 16, 0, 0), event_type=<EventType.PROMOTED: 'promoted'>, employee_id='EMP024', role=<Role.DIRECTOR: 'Director'>, manager_id='EMP005', department=None, team=None), EventLog(date=datetime.datetime(2025, 10, 16, 0, 0), event_type=<EventType.CHANGE: 'change'>, employee_id='EMP024', role=<Role.DIRECTOR: 'Director'>, manager_id='EMP002', department=None, team=None)])),\n",
       " Employee(state=EmployeeState(emp_id='EMP043', role=<Role.DIRECTOR: 'Director'>, manager_id='EMP002', department=None, team=None, hire_date=datetime.datetime(2025, 1, 30, 0, 0), active=True, history=[EventLog(date=datetime.datetime(2025, 1, 30, 0, 0), event_type=<EventType.EMPLOYED: 'employed'>, employee_id='EMP043', role=<Role.ANALYST: 'Analyst'>, manager_id='EMP015', department=None, team=None), EventLog(date=datetime.datetime(2025, 1, 31, 0, 0), event_type=<EventType.PROMOTED: 'promoted'>, employee_id='EMP043', role=<Role.SENIOR_ANALYST: 'Senior Analyst'>, manager_id='EMP015', department=None, team=None), EventLog(date=datetime.datetime(2025, 1, 31, 0, 0), event_type=<EventType.CHANGE: 'change'>, employee_id='EMP043', role=<Role.SENIOR_ANALYST: 'Senior Analyst'>, manager_id='EMP015', department=None, team=None), EventLog(date=datetime.datetime(2025, 10, 14, 0, 0), event_type=<EventType.CHANGE: 'change'>, employee_id='EMP043', role=<Role.SENIOR_ANALYST: 'Senior Analyst'>, manager_id='TEMP153', department=None, team=None), EventLog(date=datetime.datetime(2025, 12, 5, 0, 0), event_type=<EventType.PROMOTED: 'promoted'>, employee_id='EMP043', role=<Role.MANAGER: 'Manager'>, manager_id='TEMP153', department=None, team=None), EventLog(date=datetime.datetime(2025, 12, 5, 0, 0), event_type=<EventType.CHANGE: 'change'>, employee_id='EMP043', role=<Role.MANAGER: 'Manager'>, manager_id='EMP005', department=None, team=None), EventLog(date=datetime.datetime(2025, 12, 30, 0, 0), event_type=<EventType.PROMOTED: 'promoted'>, employee_id='EMP043', role=<Role.DIRECTOR: 'Director'>, manager_id='EMP005', department=None, team=None), EventLog(date=datetime.datetime(2025, 12, 30, 0, 0), event_type=<EventType.CHANGE: 'change'>, employee_id='EMP043', role=<Role.DIRECTOR: 'Director'>, manager_id='EMP002', department=None, team=None)])),\n",
       " Employee(state=EmployeeState(emp_id='EMP045', role=<Role.DIRECTOR: 'Director'>, manager_id='EMP002', department=None, team=None, hire_date=datetime.datetime(2025, 1, 31, 0, 0), active=True, history=[EventLog(date=datetime.datetime(2025, 1, 31, 0, 0), event_type=<EventType.EMPLOYED: 'employed'>, employee_id='EMP045', role=<Role.ANALYST: 'Analyst'>, manager_id='EMP039', department=None, team=None), EventLog(date=datetime.datetime(2025, 4, 10, 0, 0), event_type=<EventType.PROMOTED: 'promoted'>, employee_id='EMP045', role=<Role.SENIOR_ANALYST: 'Senior Analyst'>, manager_id='EMP039', department=None, team=None), EventLog(date=datetime.datetime(2025, 4, 10, 0, 0), event_type=<EventType.CHANGE: 'change'>, employee_id='EMP045', role=<Role.SENIOR_ANALYST: 'Senior Analyst'>, manager_id='EMP015', department=None, team=None), EventLog(date=datetime.datetime(2025, 7, 18, 0, 0), event_type=<EventType.PROMOTED: 'promoted'>, employee_id='EMP045', role=<Role.MANAGER: 'Manager'>, manager_id='EMP015', department=None, team=None), EventLog(date=datetime.datetime(2025, 7, 18, 0, 0), event_type=<EventType.CHANGE: 'change'>, employee_id='EMP045', role=<Role.MANAGER: 'Manager'>, manager_id='EMP005', department=None, team=None), EventLog(date=datetime.datetime(2025, 11, 29, 0, 0), event_type=<EventType.PROMOTED: 'promoted'>, employee_id='EMP045', role=<Role.DIRECTOR: 'Director'>, manager_id='EMP005', department=None, team=None), EventLog(date=datetime.datetime(2025, 11, 29, 0, 0), event_type=<EventType.CHANGE: 'change'>, employee_id='EMP045', role=<Role.DIRECTOR: 'Director'>, manager_id='EMP002', department=None, team=None)]))]"
      ]
     },
     "execution_count": 6,
     "metadata": {},
     "output_type": "execute_result"
    }
   ],
   "source": [
    "sim.get_active_employees_by_role('Director')"
   ]
  },
  {
   "cell_type": "code",
   "execution_count": null,
   "id": "5a7ed219",
   "metadata": {},
   "outputs": [],
   "source": [
    "# Export as dict\n",
    "data = sim.export_to_json()\n",
    "sim.save_to_json('sim_output.json')"
   ]
  },
  {
   "cell_type": "code",
   "execution_count": null,
   "id": "fcebb2a4",
   "metadata": {},
   "outputs": [],
   "source": [
    "# # Load to dict\n",
    "# start_date = datetime(2025, 1, 1)\n",
    "# sim2 = OrgSimulator(start_date=start_date).load_from_json('sim_output.json')"
   ]
  },
  {
   "cell_type": "code",
   "execution_count": 1,
   "id": "b2cf7f5d",
   "metadata": {},
   "outputs": [],
   "source": [
    "import requests, json\n",
    "with open('res_temp_output.json', 'w') as f:\n",
    "    json.dump(requests.get('https://simteam.danielpham.com.au/api/v1/employees/temp').json(), f)"
   ]
  },
  {
   "cell_type": "code",
   "execution_count": 2,
   "id": "8da4cdc1",
   "metadata": {},
   "outputs": [],
   "source": [
    "import requests, json\n",
    "with open('res_output.json', 'w') as f:\n",
    "    json.dump(requests.get('https://simteam.danielpham.com.au/api/v1/eventlog').json(), f)"
   ]
  }
 ],
 "metadata": {
  "kernelspec": {
   "display_name": "dev",
   "language": "python",
   "name": "python3"
  },
  "language_info": {
   "codemirror_mode": {
    "name": "ipython",
    "version": 3
   },
   "file_extension": ".py",
   "mimetype": "text/x-python",
   "name": "python",
   "nbconvert_exporter": "python",
   "pygments_lexer": "ipython3",
   "version": "3.13.2"
  }
 },
 "nbformat": 4,
 "nbformat_minor": 5
}
