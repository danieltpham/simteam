{
 "cells": [
  {
   "cell_type": "code",
   "execution_count": 8,
   "id": "2677f0e6",
   "metadata": {},
   "outputs": [],
   "source": [
    "from datetime import datetime\n",
    "from simteam.core.orgsimulator import OrgSimulator\n",
    "from simteam.core.config import SimulationConfig, get_default_config\n",
    "from simteam.core.enums import Role"
   ]
  },
  {
   "cell_type": "code",
   "execution_count": 9,
   "id": "8c1e3332",
   "metadata": {},
   "outputs": [],
   "source": [
    "start_date = datetime(2025, 1, 1)\n",
    "sim = OrgSimulator(start_date=start_date)"
   ]
  },
  {
   "cell_type": "code",
   "execution_count": 10,
   "id": "cc71725a",
   "metadata": {},
   "outputs": [
    {
     "name": "stdout",
     "output_type": "stream",
     "text": [
      "{<Role.CEO: 'CEO'>: 1, <Role.VP: 'VP'>: 3, <Role.DIRECTOR: 'Director'>: 10, <Role.MANAGER: 'Manager'>: 10, <Role.SENIOR_ANALYST: 'Senior Analyst'>: 30, <Role.ANALYST: 'Analyst'>: 46}\n",
      "record=VacancyRecord(role=<Role.ANALYST: 'Analyst'>, manager_id='EMP021', department=None, team=None, report_ids=[], deadline=datetime.datetime(2026, 1, 8, 0, 0))\n",
      "record=VacancyRecord(role=<Role.ANALYST: 'Analyst'>, manager_id='EMP072', department=None, team=None, report_ids=[], deadline=datetime.datetime(2026, 1, 9, 0, 0))\n"
     ]
    }
   ],
   "source": [
    "sim.simulate_for_days(365)\n",
    "print(sim.employee_count_by_role())\n",
    "for x in sim.vacancies:\n",
    "    print(x)"
   ]
  },
  {
   "cell_type": "code",
   "execution_count": 11,
   "id": "068b8726",
   "metadata": {},
   "outputs": [
    {
     "data": {
      "text/plain": [
       "[Employee(state=EmployeeState(emp_id='EMP007', role=<Role.DIRECTOR: 'Director'>, manager_id='EMP003', department=None, team=None, hire_date=datetime.datetime(2025, 1, 5, 0, 0), active=True, history=[EventLog(date=datetime.datetime(2025, 1, 5, 0, 0), event_type=<EventType.EMPLOYED: 'employed'>, employee_id='EMP007', role=<Role.DIRECTOR: 'Director'>, manager_id='EMP002', department=None, team=None), EventLog(date=datetime.datetime(2025, 4, 6, 0, 0), event_type=<EventType.CHANGE: 'change'>, employee_id='EMP007', role=<Role.DIRECTOR: 'Director'>, manager_id='EMP003', department=None, team=None)])),\n",
       " Employee(state=EmployeeState(emp_id='EMP012', role=<Role.DIRECTOR: 'Director'>, manager_id='EMP002', department=None, team=None, hire_date=datetime.datetime(2025, 1, 8, 0, 0), active=True, history=[EventLog(date=datetime.datetime(2025, 1, 8, 0, 0), event_type=<EventType.EMPLOYED: 'employed'>, employee_id='EMP012', role=<Role.DIRECTOR: 'Director'>, manager_id='EMP002', department=None, team=None)])),\n",
       " Employee(state=EmployeeState(emp_id='EMP014', role=<Role.DIRECTOR: 'Director'>, manager_id='EMP002', department=None, team=None, hire_date=datetime.datetime(2025, 1, 9, 0, 0), active=True, history=[EventLog(date=datetime.datetime(2025, 1, 9, 0, 0), event_type=<EventType.EMPLOYED: 'employed'>, employee_id='EMP014', role=<Role.DIRECTOR: 'Director'>, manager_id='EMP002', department=None, team=None)])),\n",
       " Employee(state=EmployeeState(emp_id='EMP015', role=<Role.DIRECTOR: 'Director'>, manager_id='EMP002', department=None, team=None, hire_date=datetime.datetime(2025, 1, 11, 0, 0), active=True, history=[EventLog(date=datetime.datetime(2025, 1, 11, 0, 0), event_type=<EventType.EMPLOYED: 'employed'>, employee_id='EMP015', role=<Role.MANAGER: 'Manager'>, manager_id='EMP005', department=None, team=None), EventLog(date=datetime.datetime(2025, 2, 16, 0, 0), event_type=<EventType.PROMOTED: 'promoted'>, employee_id='EMP015', role=<Role.DIRECTOR: 'Director'>, manager_id='EMP005', department=None, team=None), EventLog(date=datetime.datetime(2025, 2, 16, 0, 0), event_type=<EventType.CHANGE: 'change'>, employee_id='EMP015', role=<Role.DIRECTOR: 'Director'>, manager_id='EMP002', department=None, team=None)])),\n",
       " Employee(state=EmployeeState(emp_id='EMP020', role=<Role.DIRECTOR: 'Director'>, manager_id='EMP002', department=None, team=None, hire_date=datetime.datetime(2025, 1, 14, 0, 0), active=True, history=[EventLog(date=datetime.datetime(2025, 1, 14, 0, 0), event_type=<EventType.EMPLOYED: 'employed'>, employee_id='EMP020', role=<Role.MANAGER: 'Manager'>, manager_id='EMP005', department=None, team=None), EventLog(date=datetime.datetime(2025, 3, 16, 0, 0), event_type=<EventType.PROMOTED: 'promoted'>, employee_id='EMP020', role=<Role.DIRECTOR: 'Director'>, manager_id='EMP005', department=None, team=None), EventLog(date=datetime.datetime(2025, 3, 16, 0, 0), event_type=<EventType.CHANGE: 'change'>, employee_id='EMP020', role=<Role.DIRECTOR: 'Director'>, manager_id='EMP002', department=None, team=None)])),\n",
       " Employee(state=EmployeeState(emp_id='EMP036', role=<Role.DIRECTOR: 'Director'>, manager_id='EMP002', department=None, team=None, hire_date=datetime.datetime(2025, 1, 26, 0, 0), active=True, history=[EventLog(date=datetime.datetime(2025, 1, 26, 0, 0), event_type=<EventType.EMPLOYED: 'employed'>, employee_id='EMP036', role=<Role.ANALYST: 'Analyst'>, manager_id='EMP025', department=None, team=None), EventLog(date=datetime.datetime(2025, 2, 17, 0, 0), event_type=<EventType.PROMOTED: 'promoted'>, employee_id='EMP036', role=<Role.SENIOR_ANALYST: 'Senior Analyst'>, manager_id='EMP025', department=None, team=None), EventLog(date=datetime.datetime(2025, 2, 17, 0, 0), event_type=<EventType.CHANGE: 'change'>, employee_id='EMP036', role=<Role.SENIOR_ANALYST: 'Senior Analyst'>, manager_id='EMP016', department=None, team=None), EventLog(date=datetime.datetime(2025, 2, 20, 0, 0), event_type=<EventType.PROMOTED: 'promoted'>, employee_id='EMP036', role=<Role.MANAGER: 'Manager'>, manager_id='EMP016', department=None, team=None), EventLog(date=datetime.datetime(2025, 2, 20, 0, 0), event_type=<EventType.CHANGE: 'change'>, employee_id='EMP036', role=<Role.MANAGER: 'Manager'>, manager_id='EMP005', department=None, team=None), EventLog(date=datetime.datetime(2025, 8, 9, 0, 0), event_type=<EventType.CHANGE: 'change'>, employee_id='EMP036', role=<Role.MANAGER: 'Manager'>, manager_id='TEMP142', department=None, team=None), EventLog(date=datetime.datetime(2025, 10, 29, 0, 0), event_type=<EventType.PROMOTED: 'promoted'>, employee_id='EMP036', role=<Role.DIRECTOR: 'Director'>, manager_id='TEMP142', department=None, team=None), EventLog(date=datetime.datetime(2025, 10, 29, 0, 0), event_type=<EventType.CHANGE: 'change'>, employee_id='EMP036', role=<Role.DIRECTOR: 'Director'>, manager_id='EMP002', department=None, team=None)])),\n",
       " Employee(state=EmployeeState(emp_id='EMP037', role=<Role.DIRECTOR: 'Director'>, manager_id='EMP002', department=None, team=None, hire_date=datetime.datetime(2025, 1, 27, 0, 0), active=True, history=[EventLog(date=datetime.datetime(2025, 1, 27, 0, 0), event_type=<EventType.EMPLOYED: 'employed'>, employee_id='EMP037', role=<Role.ANALYST: 'Analyst'>, manager_id='EMP020', department=None, team=None), EventLog(date=datetime.datetime(2025, 3, 11, 0, 0), event_type=<EventType.PROMOTED: 'promoted'>, employee_id='EMP037', role=<Role.SENIOR_ANALYST: 'Senior Analyst'>, manager_id='EMP020', department=None, team=None), EventLog(date=datetime.datetime(2025, 3, 11, 0, 0), event_type=<EventType.CHANGE: 'change'>, employee_id='EMP037', role=<Role.SENIOR_ANALYST: 'Senior Analyst'>, manager_id='EMP017', department=None, team=None), EventLog(date=datetime.datetime(2025, 3, 11, 0, 0), event_type=<EventType.CHANGE: 'change'>, employee_id='EMP037', role=<Role.SENIOR_ANALYST: 'Senior Analyst'>, manager_id='EMP036', department=None, team=None), EventLog(date=datetime.datetime(2025, 5, 10, 0, 0), event_type=<EventType.PROMOTED: 'promoted'>, employee_id='EMP037', role=<Role.MANAGER: 'Manager'>, manager_id='EMP036', department=None, team=None), EventLog(date=datetime.datetime(2025, 5, 10, 0, 0), event_type=<EventType.CHANGE: 'change'>, employee_id='EMP037', role=<Role.MANAGER: 'Manager'>, manager_id='EMP005', department=None, team=None), EventLog(date=datetime.datetime(2025, 8, 6, 0, 0), event_type=<EventType.PROMOTED: 'promoted'>, employee_id='EMP037', role=<Role.DIRECTOR: 'Director'>, manager_id='EMP005', department=None, team=None), EventLog(date=datetime.datetime(2025, 8, 6, 0, 0), event_type=<EventType.CHANGE: 'change'>, employee_id='EMP037', role=<Role.DIRECTOR: 'Director'>, manager_id='EMP002', department=None, team=None)])),\n",
       " Employee(state=EmployeeState(emp_id='EMP043', role=<Role.DIRECTOR: 'Director'>, manager_id='EMP003', department=None, team=None, hire_date=datetime.datetime(2025, 2, 4, 0, 0), active=True, history=[EventLog(date=datetime.datetime(2025, 2, 4, 0, 0), event_type=<EventType.EMPLOYED: 'employed'>, employee_id='EMP043', role=<Role.ANALYST: 'Analyst'>, manager_id='EMP015', department=None, team=None), EventLog(date=datetime.datetime(2025, 4, 21, 0, 0), event_type=<EventType.PROMOTED: 'promoted'>, employee_id='EMP043', role=<Role.SENIOR_ANALYST: 'Senior Analyst'>, manager_id='EMP015', department=None, team=None), EventLog(date=datetime.datetime(2025, 4, 21, 0, 0), event_type=<EventType.CHANGE: 'change'>, employee_id='EMP043', role=<Role.SENIOR_ANALYST: 'Senior Analyst'>, manager_id='EMP021', department=None, team=None), EventLog(date=datetime.datetime(2025, 8, 14, 0, 0), event_type=<EventType.PROMOTED: 'promoted'>, employee_id='EMP043', role=<Role.MANAGER: 'Manager'>, manager_id='EMP021', department=None, team=None), EventLog(date=datetime.datetime(2025, 8, 14, 0, 0), event_type=<EventType.CHANGE: 'change'>, employee_id='EMP043', role=<Role.MANAGER: 'Manager'>, manager_id='EMP007', department=None, team=None), EventLog(date=datetime.datetime(2025, 9, 3, 0, 0), event_type=<EventType.PROMOTED: 'promoted'>, employee_id='EMP043', role=<Role.DIRECTOR: 'Director'>, manager_id='EMP007', department=None, team=None), EventLog(date=datetime.datetime(2025, 9, 3, 0, 0), event_type=<EventType.CHANGE: 'change'>, employee_id='EMP043', role=<Role.DIRECTOR: 'Director'>, manager_id='EMP002', department=None, team=None), EventLog(date=datetime.datetime(2025, 9, 13, 0, 0), event_type=<EventType.CHANGE: 'change'>, employee_id='EMP043', role=<Role.DIRECTOR: 'Director'>, manager_id='EMP003', department=None, team=None)])),\n",
       " Employee(state=EmployeeState(emp_id='EMP045', role=<Role.DIRECTOR: 'Director'>, manager_id='EMP002', department=None, team=None, hire_date=datetime.datetime(2025, 2, 4, 0, 0), active=True, history=[EventLog(date=datetime.datetime(2025, 2, 4, 0, 0), event_type=<EventType.EMPLOYED: 'employed'>, employee_id='EMP045', role=<Role.ANALYST: 'Analyst'>, manager_id='EMP018', department=None, team=None), EventLog(date=datetime.datetime(2025, 2, 5, 0, 0), event_type=<EventType.CHANGE: 'change'>, employee_id='EMP045', role=<Role.ANALYST: 'Analyst'>, manager_id='TEMP046', department=None, team=None), EventLog(date=datetime.datetime(2025, 2, 13, 0, 0), event_type=<EventType.CHANGE: 'change'>, employee_id='EMP045', role=<Role.ANALYST: 'Analyst'>, manager_id='EMP027', department=None, team=None), EventLog(date=datetime.datetime(2025, 4, 11, 0, 0), event_type=<EventType.PROMOTED: 'promoted'>, employee_id='EMP045', role=<Role.SENIOR_ANALYST: 'Senior Analyst'>, manager_id='EMP027', department=None, team=None), EventLog(date=datetime.datetime(2025, 4, 11, 0, 0), event_type=<EventType.CHANGE: 'change'>, employee_id='EMP045', role=<Role.SENIOR_ANALYST: 'Senior Analyst'>, manager_id='EMP021', department=None, team=None), EventLog(date=datetime.datetime(2025, 4, 29, 0, 0), event_type=<EventType.PROMOTED: 'promoted'>, employee_id='EMP045', role=<Role.MANAGER: 'Manager'>, manager_id='EMP021', department=None, team=None), EventLog(date=datetime.datetime(2025, 4, 29, 0, 0), event_type=<EventType.CHANGE: 'change'>, employee_id='EMP045', role=<Role.MANAGER: 'Manager'>, manager_id='EMP005', department=None, team=None), EventLog(date=datetime.datetime(2025, 8, 9, 0, 0), event_type=<EventType.CHANGE: 'change'>, employee_id='EMP045', role=<Role.MANAGER: 'Manager'>, manager_id='TEMP142', department=None, team=None), EventLog(date=datetime.datetime(2025, 10, 10, 0, 0), event_type=<EventType.PROMOTED: 'promoted'>, employee_id='EMP045', role=<Role.DIRECTOR: 'Director'>, manager_id='TEMP142', department=None, team=None), EventLog(date=datetime.datetime(2025, 10, 10, 0, 0), event_type=<EventType.CHANGE: 'change'>, employee_id='EMP045', role=<Role.DIRECTOR: 'Director'>, manager_id='EMP002', department=None, team=None)])),\n",
       " Employee(state=EmployeeState(emp_id='EMP054', role=<Role.DIRECTOR: 'Director'>, manager_id='EMP004', department=None, team=None, hire_date=datetime.datetime(2025, 2, 15, 0, 0), active=True, history=[EventLog(date=datetime.datetime(2025, 2, 15, 0, 0), event_type=<EventType.EMPLOYED: 'employed'>, employee_id='EMP054', role=<Role.ANALYST: 'Analyst'>, manager_id='EMP024', department=None, team=None), EventLog(date=datetime.datetime(2025, 4, 5, 0, 0), event_type=<EventType.PROMOTED: 'promoted'>, employee_id='EMP054', role=<Role.SENIOR_ANALYST: 'Senior Analyst'>, manager_id='EMP024', department=None, team=None), EventLog(date=datetime.datetime(2025, 4, 5, 0, 0), event_type=<EventType.CHANGE: 'change'>, employee_id='EMP054', role=<Role.SENIOR_ANALYST: 'Senior Analyst'>, manager_id='EMP021', department=None, team=None), EventLog(date=datetime.datetime(2025, 6, 1, 0, 0), event_type=<EventType.PROMOTED: 'promoted'>, employee_id='EMP054', role=<Role.MANAGER: 'Manager'>, manager_id='EMP021', department=None, team=None), EventLog(date=datetime.datetime(2025, 6, 1, 0, 0), event_type=<EventType.CHANGE: 'change'>, employee_id='EMP054', role=<Role.MANAGER: 'Manager'>, manager_id='EMP005', department=None, team=None), EventLog(date=datetime.datetime(2025, 8, 9, 0, 0), event_type=<EventType.CHANGE: 'change'>, employee_id='EMP054', role=<Role.MANAGER: 'Manager'>, manager_id='TEMP142', department=None, team=None), EventLog(date=datetime.datetime(2025, 10, 3, 0, 0), event_type=<EventType.PROMOTED: 'promoted'>, employee_id='EMP054', role=<Role.DIRECTOR: 'Director'>, manager_id='TEMP142', department=None, team=None), EventLog(date=datetime.datetime(2025, 10, 3, 0, 0), event_type=<EventType.CHANGE: 'change'>, employee_id='EMP054', role=<Role.DIRECTOR: 'Director'>, manager_id='EMP002', department=None, team=None), EventLog(date=datetime.datetime(2025, 11, 22, 0, 0), event_type=<EventType.CHANGE: 'change'>, employee_id='EMP054', role=<Role.DIRECTOR: 'Director'>, manager_id='EMP004', department=None, team=None)]))]"
      ]
     },
     "execution_count": 11,
     "metadata": {},
     "output_type": "execute_result"
    }
   ],
   "source": [
    "sim.get_active_employees_by_role('Director')"
   ]
  },
  {
   "cell_type": "code",
   "execution_count": 12,
   "id": "5a7ed219",
   "metadata": {},
   "outputs": [],
   "source": [
    "# # Export as dict\n",
    "# data = sim.export_to_json()\n",
    "# sim.save_to_json('sim_output.json')"
   ]
  },
  {
   "cell_type": "code",
   "execution_count": 13,
   "id": "fcebb2a4",
   "metadata": {},
   "outputs": [],
   "source": [
    "# # Load to dict\n",
    "# start_date = datetime(2025, 1, 1)\n",
    "# sim2 = OrgSimulator(start_date=start_date).load_from_json('sim_output.json')"
   ]
  },
  {
   "cell_type": "code",
   "execution_count": 14,
   "id": "b2cf7f5d",
   "metadata": {},
   "outputs": [],
   "source": [
    "# import pandas as pd\n",
    "# from itertools import product\n",
    "# from datetime import datetime\n",
    "# from tqdm import tqdm\n",
    "# from simteam.core.config import SimulationConfig, get_default_config\n",
    "# from simteam.core.orgsimulator import OrgSimulator\n",
    "# from simteam.core.enums import Role, EventType\n",
    "\n",
    "# # Define 8 valid (LEFT, CHANGE, PROMOTED, EMPLOYED) tuples satisfying: LEFT <= CHANGE < PROMOTED < EMPLOYED\n",
    "# event_type_weight_combinations = [\n",
    "#     (1, 1, 2, 3),\n",
    "#     (1, 1, 2, 4),\n",
    "#     (1, 2, 3, 4),\n",
    "#     (1, 2, 3, 5),\n",
    "#     (1, 2, 4, 5),\n",
    "#     (2, 2, 3, 4),\n",
    "#     (2, 2, 3, 5),\n",
    "#     (2, 3, 4, 5),\n",
    "# ]\n",
    "\n",
    "# # Parameter grids\n",
    "# min_employees_list = [10, 20, 30]\n",
    "# min_events_per_week_list = [1, 2]\n",
    "# max_events_per_day_list = [6, 7, 8]\n",
    "# max_events_per_type_list = [2, 3]\n",
    "# seeds = list(range(20))  # 20 seeds\n",
    "\n",
    "# # Fixed values\n",
    "# manager_quota = 15\n",
    "# max_employees = 100\n",
    "# start_date = datetime(2025, 1, 1)\n",
    "\n",
    "# def generate_surrogate_training_data():\n",
    "#     results = []\n",
    "\n",
    "#     grid = product(\n",
    "#         event_type_weight_combinations,\n",
    "#         min_employees_list,\n",
    "#         min_events_per_week_list,\n",
    "#         max_events_per_day_list,\n",
    "#         max_events_per_type_list,\n",
    "#         seeds\n",
    "#     )\n",
    "\n",
    "#     for (\n",
    "#         (w_left, w_change, w_promoted, w_employed),\n",
    "#         min_employees_for_leaving,\n",
    "#         min_events_per_week,\n",
    "#         max_events_per_day,\n",
    "#         max_events_per_type,\n",
    "#         seed\n",
    "#     ) in tqdm(grid, total=8*3*2*3*2*20):\n",
    "\n",
    "#         base_cfg = get_default_config()\n",
    "#         event_type_weights = {\n",
    "#             EventType.EMPLOYED: w_employed,\n",
    "#             EventType.PROMOTED: w_promoted,\n",
    "#             EventType.LEFT: w_left,\n",
    "#             EventType.CHANGE: w_change,\n",
    "#         }\n",
    "\n",
    "#         config = SimulationConfig(\n",
    "#             role_quotas={**base_cfg.role_quotas, Role.MANAGER: manager_quota},\n",
    "#             max_employees=max_employees,\n",
    "#             max_events_per_type=max_events_per_type,\n",
    "#             max_events_per_day=max_events_per_day,\n",
    "#             vacancy_fill_deadline_days=10,\n",
    "#             min_employees_for_leaving=min_employees_for_leaving,\n",
    "#             promotion_order=base_cfg.promotion_order,\n",
    "#             allowed_manager_mapping=base_cfg.allowed_manager_mapping,\n",
    "#             event_type_weights=event_type_weights,\n",
    "#             event_type_caps=base_cfg.event_type_caps,\n",
    "#             min_events_per_week=min_events_per_week,\n",
    "#             random_seed=seed,\n",
    "#         )\n",
    "\n",
    "#         sim = OrgSimulator(start_date=start_date, config=config)\n",
    "#         sim.simulate_for_days(365)\n",
    "#         sim.compute_hiring_statistics()\n",
    "\n",
    "#         row = sim.compute_hiring_statistics()\n",
    "#         row.update({\n",
    "#             \"seed\": seed,\n",
    "#             \"weight_employed\": w_employed,\n",
    "#             \"weight_promoted\": w_promoted,\n",
    "#             \"weight_change\": w_change,\n",
    "#             \"weight_left\": w_left,\n",
    "#             \"min_employees_for_leaving\": min_employees_for_leaving,\n",
    "#             \"min_events_per_week\": min_events_per_week,\n",
    "#             \"max_events_per_day\": max_events_per_day,\n",
    "#             \"max_events_per_type\": max_events_per_type\n",
    "#         })\n",
    "\n",
    "#         results.append(row)\n",
    "\n",
    "#     return pd.DataFrame(results)\n",
    "\n",
    "# # Run the function and preview the first few rows\n",
    "# df = generate_surrogate_training_data()\n",
    "\n",
    "# df.to_csv(\"sim_training_data.csv\", index=False)"
   ]
  }
 ],
 "metadata": {
  "kernelspec": {
   "display_name": "dev",
   "language": "python",
   "name": "python3"
  },
  "language_info": {
   "codemirror_mode": {
    "name": "ipython",
    "version": 3
   },
   "file_extension": ".py",
   "mimetype": "text/x-python",
   "name": "python",
   "nbconvert_exporter": "python",
   "pygments_lexer": "ipython3",
   "version": "3.13.2"
  }
 },
 "nbformat": 4,
 "nbformat_minor": 5
}
